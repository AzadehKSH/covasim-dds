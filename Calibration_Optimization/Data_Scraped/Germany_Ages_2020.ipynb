{
 "cells": [
  {
   "cell_type": "code",
   "execution_count": 1,
   "id": "3274cebb-334a-464e-a902-3e21ac0ba000",
   "metadata": {},
   "outputs": [
    {
     "name": "stdout",
     "output_type": "stream",
     "text": [
      "Covasim 3.1.1 (2021-12-06) — © 2021 by IDM\n"
     ]
    },
    {
     "data": {
      "text/html": [
       "<div>\n",
       "<style scoped>\n",
       "    .dataframe tbody tr th:only-of-type {\n",
       "        vertical-align: middle;\n",
       "    }\n",
       "\n",
       "    .dataframe tbody tr th {\n",
       "        vertical-align: top;\n",
       "    }\n",
       "\n",
       "    .dataframe thead th {\n",
       "        text-align: right;\n",
       "    }\n",
       "</style>\n",
       "<table border=\"1\" class=\"dataframe\">\n",
       "  <thead>\n",
       "    <tr style=\"text-align: right;\">\n",
       "      <th></th>\n",
       "      <th>Age</th>\n",
       "      <th>M</th>\n",
       "      <th>F</th>\n",
       "    </tr>\n",
       "  </thead>\n",
       "  <tbody>\n",
       "    <tr>\n",
       "      <th>0</th>\n",
       "      <td>0-4</td>\n",
       "      <td>2082342</td>\n",
       "      <td>1976336</td>\n",
       "    </tr>\n",
       "    <tr>\n",
       "      <th>1</th>\n",
       "      <td>5-9</td>\n",
       "      <td>1970345</td>\n",
       "      <td>1851880</td>\n",
       "    </tr>\n",
       "    <tr>\n",
       "      <th>2</th>\n",
       "      <td>10-14</td>\n",
       "      <td>1979340</td>\n",
       "      <td>1832305</td>\n",
       "    </tr>\n",
       "    <tr>\n",
       "      <th>3</th>\n",
       "      <td>15-19</td>\n",
       "      <td>2150221</td>\n",
       "      <td>1968750</td>\n",
       "    </tr>\n",
       "    <tr>\n",
       "      <th>4</th>\n",
       "      <td>20-24</td>\n",
       "      <td>2382496</td>\n",
       "      <td>2170940</td>\n",
       "    </tr>\n",
       "  </tbody>\n",
       "</table>\n",
       "</div>"
      ],
      "text/plain": [
       "     Age        M        F\n",
       "0    0-4  2082342  1976336\n",
       "1    5-9  1970345  1851880\n",
       "2  10-14  1979340  1832305\n",
       "3  15-19  2150221  1968750\n",
       "4  20-24  2382496  2170940"
      ]
     },
     "execution_count": 1,
     "metadata": {},
     "output_type": "execute_result"
    }
   ],
   "source": [
    "import pandas as pd\n",
    "import covasim as cv\n",
    "df = pd.read_csv('german_data/Democraphics_source_Germany-2020.csv')\n",
    "df.head()"
   ]
  },
  {
   "cell_type": "code",
   "execution_count": 2,
   "id": "6e448136-048d-421d-930d-c1e6b14d0001",
   "metadata": {},
   "outputs": [
    {
     "name": "stdout",
     "output_type": "stream",
     "text": [
      "Total: 83783943\n",
      "0-9 : 7880903 | 7880902 | 1\n",
      "10-19 : 7930616 | 7930616 | 0\n",
      "20-29 : 9377361 | 9377359 | 2\n",
      "30-39 : 10872020 | 10872019 | 1\n",
      "40-49 : 10243351 | 10243351 | 0\n",
      "50-59 : 13488393 | 13488393 | 0\n",
      "60-69 : 10644142 | 10644140 | 2\n",
      "70-79 : 7471414 | 7471414 | 0\n",
      "80+ : 5875743 | 5875748 | 5\n"
     ]
    }
   ],
   "source": [
    "germany_pop = dict()\n",
    "s,e = '', ''\n",
    "current = 0\n",
    "total = 0\n",
    "for index, row in df.iterrows():\n",
    "    pop = row['M'] + row['F']\n",
    "    total += pop\n",
    "    if index == 16:\n",
    "        current = pop\n",
    "    elif index > 16:\n",
    "        current += pop\n",
    "    else:\n",
    "        age_bin = row['Age'].split('-')\n",
    "        pop = row['M'] + row['F']\n",
    "        if index % 2 == 0:\n",
    "            current = pop\n",
    "            s = age_bin[0]\n",
    "        else:\n",
    "            current += pop\n",
    "            e = age_bin[1]\n",
    "            germany_pop[f\"{s}-{e}\"] = current\n",
    "            \n",
    "germany_pop['80+'] = current\n",
    "print(f\"Total: {total}\")\n",
    "germany_pop\n",
    "covasim_pop = cv.data.country_age_data.data['Germany']\n",
    "for k in covasim_pop.keys():\n",
    "    a = germany_pop[k]\n",
    "    b = covasim_pop[k]\n",
    "    print(f\"{k} : {a} | {b} | {abs(a-b)}\")"
   ]
  }
 ],
 "metadata": {
  "kernelspec": {
   "display_name": "data-driven",
   "language": "python",
   "name": "data-driven"
  },
  "language_info": {
   "codemirror_mode": {
    "name": "ipython",
    "version": 3
   },
   "file_extension": ".py",
   "mimetype": "text/x-python",
   "name": "python",
   "nbconvert_exporter": "python",
   "pygments_lexer": "ipython3",
   "version": "3.9.9"
  }
 },
 "nbformat": 4,
 "nbformat_minor": 5
}
