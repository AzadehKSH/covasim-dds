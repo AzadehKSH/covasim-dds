{
 "cells": [
  {
   "cell_type": "code",
   "execution_count": 6,
   "id": "07365c09-e530-48ea-ae88-01fa58bb5194",
   "metadata": {},
   "outputs": [],
   "source": [
    "import matplotlib.pyplot as plt\n",
    "import numpy as np\n",
    "import seaborn as sn\n",
    "import pandas as pd"
   ]
  },
  {
   "cell_type": "code",
   "execution_count": 29,
   "id": "40edb24f-b98a-4a61-8b51-397fa8b5d5b2",
   "metadata": {},
   "outputs": [
    {
     "data": {
      "text/html": [
       "<div>\n",
       "<style scoped>\n",
       "    .dataframe tbody tr th:only-of-type {\n",
       "        vertical-align: middle;\n",
       "    }\n",
       "\n",
       "    .dataframe tbody tr th {\n",
       "        vertical-align: top;\n",
       "    }\n",
       "\n",
       "    .dataframe thead th {\n",
       "        text-align: right;\n",
       "    }\n",
       "</style>\n",
       "<table border=\"1\" class=\"dataframe\">\n",
       "  <thead>\n",
       "    <tr style=\"text-align: right;\">\n",
       "      <th></th>\n",
       "      <th>Morris Index</th>\n",
       "      <th>RBD-Fast</th>\n",
       "      <th>Delta</th>\n",
       "    </tr>\n",
       "  </thead>\n",
       "  <tbody>\n",
       "    <tr>\n",
       "      <th>Beta</th>\n",
       "      <td>1.000000</td>\n",
       "      <td>1.000000</td>\n",
       "      <td>1.000000</td>\n",
       "    </tr>\n",
       "    <tr>\n",
       "      <th>Asymp Factor</th>\n",
       "      <td>0.525800</td>\n",
       "      <td>0.160709</td>\n",
       "      <td>0.259280</td>\n",
       "    </tr>\n",
       "    <tr>\n",
       "      <th>Severe Prob</th>\n",
       "      <td>0.750381</td>\n",
       "      <td>0.545345</td>\n",
       "      <td>0.865910</td>\n",
       "    </tr>\n",
       "    <tr>\n",
       "      <th>Death Prob</th>\n",
       "      <td>0.317112</td>\n",
       "      <td>0.108871</td>\n",
       "      <td>0.219457</td>\n",
       "    </tr>\n",
       "  </tbody>\n",
       "</table>\n",
       "</div>"
      ],
      "text/plain": [
       "              Morris Index  RBD-Fast     Delta\n",
       "Beta              1.000000  1.000000  1.000000\n",
       "Asymp Factor      0.525800  0.160709  0.259280\n",
       "Severe Prob       0.750381  0.545345  0.865910\n",
       "Death Prob        0.317112  0.108871  0.219457"
      ]
     },
     "execution_count": 29,
     "metadata": {},
     "output_type": "execute_result"
    }
   ],
   "source": [
    "par_list = ['Beta', 'Asymp Factor', 'Severe Prob', 'Death Prob']\n",
    "morris = np.array([590.433333, 310.450000, 443.050000, 187.233333])\n",
    "rbd = np.array([0.415621,0.066794, 0.226657, 0.045249])\n",
    "delta = np.array([0.278506, 0.072211, 0.241161, 0.061120])\n",
    "\n",
    "methods = {\"Morris Index\": morris, \"RBD-Fast\":rbd, \"Delta\": delta}\n",
    "for k in methods.keys():\n",
    "    m = max(methods[k])\n",
    "    methods[k] = methods[k] / m\n",
    "    \n",
    "df = pd.DataFrame(methods, index=par_list)\n",
    "df"
   ]
  },
  {
   "cell_type": "code",
   "execution_count": 30,
   "id": "db1a21e2-fe66-4409-8e21-a54207d3178f",
   "metadata": {},
   "outputs": [
    {
     "data": {
      "text/plain": [
       "<AxesSubplot:>"
      ]
     },
     "execution_count": 30,
     "metadata": {},
     "output_type": "execute_result"
    },
    {
     "data": {
      "image/png": "[encoded data removed]",
      "text/plain": [
       "<Figure size 720x432 with 1 Axes>"
      ]
     },
     "metadata": {
      "needs_background": "light"
     },
     "output_type": "display_data"
    }
   ],
   "source": [
    "df.plot.bar(figsize=(10,6))"
   ]
  },
  {
   "cell_type": "code",
   "execution_count": null,
   "id": "ba47eb24-5746-4da8-a928-f76e1e79f3ee",
   "metadata": {},
   "outputs": [],
   "source": []
  }
 ],
 "metadata": {
  "kernelspec": {
   "display_name": "Python 3 (ipykernel)",
   "language": "python",
   "name": "python3"
  },
  "language_info": {
   "codemirror_mode": {
    "name": "ipython",
    "version": 3
   },
   "file_extension": ".py",
   "mimetype": "text/x-python",
   "name": "python",
   "nbconvert_exporter": "python",
   "pygments_lexer": "ipython3",
   "version": "3.8.12"
  }
 },
 "nbformat": 4,
 "nbformat_minor": 5
}
