{
 "cells": [
  {
   "cell_type": "code",
   "execution_count": 1,
   "id": "6e65e748-1601-4035-a58b-e4e252016303",
   "metadata": {},
   "outputs": [
    {
     "name": "stdout",
     "output_type": "stream",
     "text": [
      "Covasim 3.0.7 (2021-06-29) — © 2021 by IDM\n"
     ]
    }
   ],
   "source": [
    "import matplotlib.pyplot as plt\n",
    "import numpy as np\n",
    "from SALib.analyze.morris import analyze as morris_analyze\n",
    "from SALib.sample.morris import sample as morris_sample\n",
    "from helpers.helpers import design_point_executor"
   ]
  },
  {
   "cell_type": "code",
   "execution_count": 2,
   "id": "09377065-1695-4353-bb46-ab53dbb1a13c",
   "metadata": {},
   "outputs": [],
   "source": [
    "r = 10  # number of replications with 4<=r<=10\n",
    "num_levels = 6  # parameter for method of morris\n",
    "par_list = ['beta', 'asymp_factor', 'rel_severe_prob', 'rel_death_prob']\n",
    "k = len(par_list)  # number of covasim variables to analyse\n",
    "problem = {\n",
    "    'num_vars': k,\n",
    "    'names': par_list,\n",
    "    'bounds': [[0.005, 0.005 * num_levels],\n",
    "               [0.5, 0.5 * num_levels],\n",
    "               [0.75, 0.75 * num_levels],\n",
    "               [0.75, 0.75 * num_levels]]\n",
    "}"
   ]
  },
  {
   "cell_type": "code",
   "execution_count": 3,
   "id": "2d862087-2317-4ba0-8585-2ae1dbc1f46a",
   "metadata": {},
   "outputs": [
    {
     "name": "stdout",
     "output_type": "stream",
     "text": [
      "Created 50 design points\n",
      "First design point:  [0.02 2.   1.5  3.75] \n",
      " Last design point:  [0.025 1.    3.    1.5  ]\n",
      "Average number of dead people over 10 simulation runs:\n",
      "For first design point: 425.9\n",
      "For last design point: 584.1\n"
     ]
    }
   ],
   "source": [
    "# sample the r trajectories\n",
    "X = morris_sample(problem, r, num_levels=num_levels)\n",
    "print(f\"Created {len(X)} design points\")\n",
    "print(\"First design point: \", X[0], \"\\n Last design point: \", X[-1])\n",
    "executor = design_point_executor(par_list, n_reps=10)\n",
    "results = map(executor, X)\n",
    "# execute the simulations\n",
    "Y = np.fromiter(results, dtype=np.float64)  \n",
    "print(\"Average number of dead people over 10 simulation runs:\")\n",
    "print(\"For first design point:\", Y[0])\n",
    "print(\"For last design point:\", Y[-1])"
   ]
  },
  {
   "cell_type": "code",
   "execution_count": 4,
   "id": "14ed8146-a1bd-4c7c-977a-5d7c340f0ae3",
   "metadata": {},
   "outputs": [
    {
     "name": "stdout",
     "output_type": "stream",
     "text": [
      "                         mu     mu_star       sigma  mu_star_conf\n",
      "beta             590.433333  590.433333  670.721972    398.015672\n",
      "asymp_factor     310.450000  310.450000  237.902058    139.851188\n",
      "rel_severe_prob  443.050000  443.050000  521.698923    288.361945\n",
      "rel_death_prob   187.233333  187.233333  155.356047     89.839352\n"
     ]
    }
   ],
   "source": [
    "# calculate elementary effects\n",
    "Si = morris_analyze(problem, X, Y, num_levels=num_levels, print_to_console=True)"
   ]
  },
  {
   "cell_type": "code",
   "execution_count": 5,
   "id": "d31dd34e-3f25-4462-8f2a-cf8bcb7fd3b6",
   "metadata": {},
   "outputs": [
    {
     "data": {
      "image/png": "[encoded data removed]",
      "text/plain": [
       "<Figure size 432x216 with 1 Axes>"
      ]
     },
     "metadata": {
      "needs_background": "light"
     },
     "output_type": "display_data"
    }
   ],
   "source": [
    "# plot first against higher order elementary effects\n",
    "mu_star = Si['mu_star'].data\n",
    "sigma = Si['sigma']\n",
    "plt.figure(figsize=(6, 3))\n",
    "plt.title(\"Scatter plot\")\n",
    "for par, m, s in zip(par_list, mu_star, sigma):\n",
    "    plt.scatter(m, s, label=par)\n",
    "plt.xlabel(r'$\\mu_*$')\n",
    "plt.ylabel(r'$\\sigma$')\n",
    "plt.legend();"
   ]
  }
 ],
 "metadata": {
  "kernelspec": {
   "display_name": "Python 3 (ipykernel)",
   "language": "python",
   "name": "python3"
  },
  "language_info": {
   "codemirror_mode": {
    "name": "ipython",
    "version": 3
   },
   "file_extension": ".py",
   "mimetype": "text/x-python",
   "name": "python",
   "nbconvert_exporter": "python",
   "pygments_lexer": "ipython3",
   "version": "3.8.12"
  }
 },
 "nbformat": 4,
 "nbformat_minor": 5
}
