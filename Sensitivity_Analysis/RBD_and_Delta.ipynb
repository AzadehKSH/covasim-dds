{
 "cells": [
  {
   "cell_type": "code",
   "execution_count": 1,
   "id": "6e65e748-1601-4035-a58b-e4e252016303",
   "metadata": {},
   "outputs": [
    {
     "name": "stdout",
     "output_type": "stream",
     "text": [
      "Covasim 3.0.7 (2021-06-29) — © 2021 by IDM\n"
     ]
    }
   ],
   "source": [
    "import matplotlib.pyplot as plt\n",
    "import numpy as np\n",
    "from SALib.analyze.delta import analyze as delta_analyze\n",
    "from SALib.analyze.rbd_fast import analyze as rbd_fast_analyze\n",
    "from SALib.sample.latin import sample as latin_sample\n",
    "\n",
    "from helpers.helpers import design_point_executor"
   ]
  },
  {
   "cell_type": "code",
   "execution_count": 2,
   "id": "09377065-1695-4353-bb46-ab53dbb1a13c",
   "metadata": {},
   "outputs": [],
   "source": [
    "num_samples = 100  # Latin Hypercube samples\n",
    "par_list = ['beta', 'asymp_factor', 'rel_severe_prob', 'rel_death_prob']\n",
    "k = len(par_list)  # number of covasim variables to analyse\n",
    "problem = {\n",
    "    'num_vars': k,\n",
    "    'names': par_list,\n",
    "    'bounds': [[0.005, 0.005 * 6],\n",
    "               [0.5, 0.5 * 6],\n",
    "               [0.75, 0.75 * 6],\n",
    "               [0.75, 0.75 * 6]]\n",
    "}"
   ]
  },
  {
   "cell_type": "code",
   "execution_count": 3,
   "id": "2d862087-2317-4ba0-8585-2ae1dbc1f46a",
   "metadata": {},
   "outputs": [
    {
     "name": "stdout",
     "output_type": "stream",
     "text": [
      "Created 100 design points\n",
      "First design point:  [0.00938976 2.54279189 1.63089604 0.9255386 ] \n",
      " Last design point:  [0.00674854 1.40885867 4.29869811 3.252052  ]\n",
      "Average number of dead people over 10 simulation runs:\n",
      "For first design point: 72.3 \n",
      " Last design point: 49.5\n"
     ]
    }
   ],
   "source": [
    "# sample design points\n",
    "X = latin_sample(problem, num_samples)\n",
    "print(f\"Created {len(X)} design points\")\n",
    "print(\"First design point: \", X[0], \"\\n Last design point: \", X[-1])\n",
    "executor = design_point_executor(par_list)\n",
    "results = map(executor, X)\n",
    "# execute the simulations\n",
    "Y = np.fromiter(results, dtype=np.float64)\n",
    "print(\"Average number of dead people over 10 simulation runs:\")\n",
    "print(\"For first design point:\", Y[0], \"\\n Last design point:\", Y[-1])"
   ]
  },
  {
   "cell_type": "code",
   "execution_count": 4,
   "id": "14ed8146-a1bd-4c7c-977a-5d7c340f0ae3",
   "metadata": {},
   "outputs": [
    {
     "name": "stdout",
     "output_type": "stream",
     "text": [
      "                       S1   S1_conf\n",
      "beta             0.415621  0.290685\n",
      "asymp_factor     0.066794  0.335682\n",
      "rel_severe_prob  0.226657  0.336032\n",
      "rel_death_prob   0.045249  0.351219\n"
     ]
    },
    {
     "data": {
      "image/png": "[encoded data removed]",
      "text/plain": [
       "<Figure size 432x216 with 1 Axes>"
      ]
     },
     "metadata": {
      "needs_background": "light"
     },
     "output_type": "display_data"
    }
   ],
   "source": [
    "# apply RBD-Fast\n",
    "Si = rbd_fast_analyze(problem, X, Y, print_to_console=True)\n",
    "# plot first order effects of the parameters\n",
    "plt.figure(figsize=(6, 3))\n",
    "plt.title(\"RBD-Fast\")\n",
    "plt.bar(par_list, Si['S1']);"
   ]
  },
  {
   "cell_type": "code",
   "execution_count": 5,
   "id": "af5cd26a-6f0e-4796-b5b3-b60917cfdaad",
   "metadata": {},
   "outputs": [
    {
     "name": "stdout",
     "output_type": "stream",
     "text": [
      "                    delta  delta_conf        S1   S1_conf\n",
      "beta             0.278506    0.071730  0.474535  0.152394\n",
      "asymp_factor     0.072211    0.048075  0.071139  0.119462\n",
      "rel_severe_prob  0.241161    0.055041  0.315106  0.129124\n",
      "rel_death_prob   0.061120    0.050009  0.017516  0.082873\n"
     ]
    },
    {
     "data": {
      "image/png": "[encoded data removed]",
      "text/plain": [
       "<Figure size 432x216 with 1 Axes>"
      ]
     },
     "metadata": {
      "needs_background": "light"
     },
     "output_type": "display_data"
    }
   ],
   "source": [
    "# apply Delta\n",
    "Si = delta_analyze(problem, X, Y, print_to_console=True)\n",
    "# plot Delta Moment-Independent Measure of parameters\n",
    "plt.figure(figsize=(6, 3))\n",
    "plt.title(\"Delta Index\")\n",
    "plt.bar(par_list, Si['delta']);"
   ]
  }
 ],
 "metadata": {
  "kernelspec": {
   "display_name": "Python 3 (ipykernel)",
   "language": "python",
   "name": "python3"
  },
  "language_info": {
   "codemirror_mode": {
    "name": "ipython",
    "version": 3
   },
   "file_extension": ".py",
   "mimetype": "text/x-python",
   "name": "python",
   "nbconvert_exporter": "python",
   "pygments_lexer": "ipython3",
   "version": "3.8.12"
  }
 },
 "nbformat": 4,
 "nbformat_minor": 5
}